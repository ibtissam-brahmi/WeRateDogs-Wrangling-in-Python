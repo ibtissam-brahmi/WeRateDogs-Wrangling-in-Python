{
 "cells": [
  {
   "cell_type": "markdown",
   "metadata": {},
   "source": [
    "# Gather data"
   ]
  },
  {
   "cell_type": "markdown",
   "metadata": {},
   "source": [
    "## Import datasets"
   ]
  },
  {
   "cell_type": "markdown",
   "metadata": {},
   "source": [
    "We downloaded manually twitter_archive_enhanced.csv, now we'll downloaded programmatically image_predictions.tsv from the url https://d17h27t6h515a5.cloudfront.net/topher/2017/August/599fd2ad_image-predictions/image-predictions.tsv\n"
   ]
  },
  {
   "cell_type": "code",
   "execution_count": 1,
   "metadata": {},
   "outputs": [],
   "source": [
    "import requests\n",
    "import os\n",
    "url = 'https://d17h27t6h515a5.cloudfront.net/topher/2017/August/599fd2ad_image-predictions/image-predictions.tsv'\n",
    "folder_name = 'image-predictions'\n",
    "#creates a host folder of our new tsv file\n",
    "if not os.path.exists(folder_name):\n",
    "    os.makedirs(folder_name)\n",
    "#store the HTTP status\n",
    "response = requests.get(url)\n",
    "#get the tsv file and save it in the destination folder\n",
    "with open (os.path.join(folder_name,url.split('/')[-1]), mode = 'wb') as file:\n",
    "    file.write(response.content)"
   ]
  },
  {
   "cell_type": "code",
   "execution_count": 2,
   "metadata": {
    "scrolled": true
   },
   "outputs": [],
   "source": [
    "#Define my API credentials and get access to my created API\n",
    "import tweepy\n",
    "\n",
    "consumer_key = ''\n",
    "consumer_secret = ''\n",
    "access_token = ''\n",
    "access_secret = ''\n",
    "\n",
    "auth = tweepy.OAuthHandler(consumer_key, consumer_secret)\n",
    "auth.set_access_token(access_token, access_secret)\n",
    "\n",
    "api = tweepy.API(auth, wait_on_rate_limit=True)"
   ]
  },
  {
   "cell_type": "code",
   "execution_count": 47,
   "metadata": {},
   "outputs": [],
   "source": [
    "#Store the tweet ids from csv file to a list\n",
    "import pandas as pd\n",
    "twitter_archive = pd.read_csv('twitter-archive-enhanced.csv')\n",
    "tweets = list(twitter_archive.tweet_id)"
   ]
  },
  {
   "cell_type": "code",
   "execution_count": 43,
   "metadata": {},
   "outputs": [
    {
     "name": "stdout",
     "output_type": "stream",
     "text": [
      "888202515573088257 [{'code': 144, 'message': 'No status found with that ID.'}]\n",
      "873697596434513921 [{'code': 144, 'message': 'No status found with that ID.'}]\n",
      "872668790621863937 [{'code': 144, 'message': 'No status found with that ID.'}]\n",
      "869988702071779329 [{'code': 144, 'message': 'No status found with that ID.'}]\n",
      "866816280283807744 [{'code': 144, 'message': 'No status found with that ID.'}]\n",
      "861769973181624320 [{'code': 144, 'message': 'No status found with that ID.'}]\n",
      "845459076796616705 [{'code': 144, 'message': 'No status found with that ID.'}]\n",
      "842892208864923648 [{'code': 144, 'message': 'No status found with that ID.'}]\n",
      "837012587749474308 [{'code': 144, 'message': 'No status found with that ID.'}]\n",
      "827228250799742977 [{'code': 144, 'message': 'No status found with that ID.'}]\n",
      "802247111496568832 [{'code': 144, 'message': 'No status found with that ID.'}]\n",
      "775096608509886464 [{'code': 144, 'message': 'No status found with that ID.'}]\n",
      "771004394259247104 [{'code': 179, 'message': 'Sorry, you are not authorized to see this status.'}]\n",
      "770743923962707968 [{'code': 144, 'message': 'No status found with that ID.'}]\n",
      "754011816964026368 [{'code': 144, 'message': 'No status found with that ID.'}]\n",
      "136.6875\n"
     ]
    }
   ],
   "source": [
    "#Storing data from API using the list of tweet ids to a JSON file\n",
    "import time\n",
    "working =[]\n",
    "not_working = []\n",
    "with open('tweet_json.txt', 'w') as file:\n",
    "    start = time.time()\n",
    "    for tweet_id in tweets:\n",
    "        try:\n",
    "            tweet_details = api.get_status(tweet_id,tweet_mode='extended')\n",
    "            json.dump(tweet_details._json, file)\n",
    "            file.write('\\n')\n",
    "            working.append(tweet_id)\n",
    "        except Exception as e:\n",
    "            print(tweet_id,e)\n",
    "            not_working.append(tweet_id)\n",
    "    end = time.time()\n",
    "print(end-start)"
   ]
  },
  {
   "cell_type": "code",
   "execution_count": 44,
   "metadata": {},
   "outputs": [],
   "source": [
    "#Read JSON content as a panda dataframe\n",
    "tweet_data = pd.read_json('tweet_json.txt', lines = True,encoding='utf-8')"
   ]
  },
  {
   "cell_type": "code",
   "execution_count": 54,
   "metadata": {},
   "outputs": [],
   "source": [
    "#Access to image-prediction folder and read csv image file in a dataframe\n",
    "os.chdir('image-predictions')\n",
    "image_predictions = pd.read_csv('image-predictions.tsv', sep='\\t')"
   ]
  },
  {
   "cell_type": "code",
   "execution_count": 59,
   "metadata": {
    "scrolled": true
   },
   "outputs": [
    {
     "ename": "FileNotFoundError",
     "evalue": "[WinError 2] Le fichier spécifié est introuvable: '../project'",
     "output_type": "error",
     "traceback": [
      "\u001b[1;31m---------------------------------------------------------------------------\u001b[0m",
      "\u001b[1;31mFileNotFoundError\u001b[0m                         Traceback (most recent call last)",
      "\u001b[1;32m<ipython-input-59-ed4f9b8884c3>\u001b[0m in \u001b[0;36m<module>\u001b[1;34m()\u001b[0m\n\u001b[1;32m----> 1\u001b[1;33m \u001b[0mos\u001b[0m\u001b[1;33m.\u001b[0m\u001b[0mchdir\u001b[0m\u001b[1;33m(\u001b[0m\u001b[1;34m'../project'\u001b[0m\u001b[1;33m)\u001b[0m\u001b[1;33m\u001b[0m\u001b[0m\n\u001b[0m",
      "\u001b[1;31mFileNotFoundError\u001b[0m: [WinError 2] Le fichier spécifié est introuvable: '../project'"
     ]
    }
   ],
   "source": [
    "os.chdir('.. /project')"
   ]
  }
 ],
 "metadata": {
  "kernelspec": {
   "display_name": "Python 3",
   "language": "python",
   "name": "python3"
  },
  "language_info": {
   "codemirror_mode": {
    "name": "ipython",
    "version": 3
   },
   "file_extension": ".py",
   "mimetype": "text/x-python",
   "name": "python",
   "nbconvert_exporter": "python",
   "pygments_lexer": "ipython3",
   "version": "3.6.5"
  }
 },
 "nbformat": 4,
 "nbformat_minor": 2
}
