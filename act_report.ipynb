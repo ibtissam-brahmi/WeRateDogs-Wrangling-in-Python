{
 "cells": [
  {
   "cell_type": "markdown",
   "metadata": {},
   "source": [
    "## We Rate Dogs, what are the results ?"
   ]
  },
  {
   "cell_type": "markdown",
   "metadata": {},
   "source": [
    "- WeRateDogs twitter account was created by november 2015 and had more than 7millions followers atround the world, the followers post images of hteir dogs and present them briefly by precising the name the race...\n",
    "- Other followers rate them by attributing a ratio to the dog or dogs in the ppsted photo."
   ]
  },
  {
   "cell_type": "markdown",
   "metadata": {},
   "source": [
    "- In this article we discover some insights in WeRateDogs twitter page.\n",
    "The data was collected from different souces and contains some keys variables able to measure and evaluate the posted dogs."
   ]
  }
 ],
 "metadata": {
  "kernelspec": {
   "display_name": "Python 3",
   "language": "python",
   "name": "python3"
  },
  "language_info": {
   "codemirror_mode": {
    "name": "ipython",
    "version": 3
   },
   "file_extension": ".py",
   "mimetype": "text/x-python",
   "name": "python",
   "nbconvert_exporter": "python",
   "pygments_lexer": "ipython3",
   "version": "3.6.5"
  }
 },
 "nbformat": 4,
 "nbformat_minor": 2
}
