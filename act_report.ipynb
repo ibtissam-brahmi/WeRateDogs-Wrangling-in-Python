{
 "cells": [
  {
   "cell_type": "markdown",
   "metadata": {},
   "source": [
    "## We Rate Dogs, what are the results ?"
   ]
  },
  {
   "cell_type": "markdown",
   "metadata": {},
   "source": [
    "- WeRateDogs twitter account was created by november 2015 and had more than 7millions followers atround the world, the followers post images of hteir dogs and present them briefly by precising the name the race...\n",
    "- Other followers rate them by attributing a ratio to the dog or dogs in the ppsted photo."
   ]
  },
  {
   "cell_type": "markdown",
   "metadata": {},
   "source": [
    "- In this article we discover some insights in WeRateDogs twitter page.\n",
    "The data was collected from different souces and contains some keys variables able to measure and evaluate the posted dogs."
   ]
  },
  {
   "cell_type": "markdown",
   "metadata": {},
   "source": [
    "## Key variables"
   ]
  },
  {
   "cell_type": "markdown",
   "metadata": {},
   "source": [
    "The key variables we used to analyze our dogs are retweet and favorite counts, rating ratios and dogs stages."
   ]
  },
  {
   "cell_type": "markdown",
   "metadata": {},
   "source": [
    "## Univariate analysis"
   ]
  },
  {
   "cell_type": "markdown",
   "metadata": {},
   "source": [
    "#### Distribution and some statistics of dog ratings"
   ]
  },
  {
   "cell_type": "code",
   "execution_count": 4,
   "metadata": {},
   "outputs": [],
   "source": [
    "import matplotlib.pyplot as plt \n",
    "import pandas as pd\n",
    "we_rate_dogs_clean=pd.read_csv('twitter_archive_master.csv')"
   ]
  },
  {
   "cell_type": "code",
   "execution_count": 17,
   "metadata": {},
   "outputs": [
    {
     "data": {
      "text/plain": [
       "Text(0,0.5,'counts')"
      ]
     },
     "execution_count": 17,
     "metadata": {},
     "output_type": "execute_result"
    },
    {
     "data": {
      "image/png": "[encoded data removed]",
      "text/plain": [
       "<Figure size 432x288 with 1 Axes>"
      ]
     },
     "metadata": {},
     "output_type": "display_data"
    }
   ],
   "source": [
    "plt.hist(we_rate_dogs_clean['rating_ratio'],range=(0,1.5));\n",
    "plt.xlabel('rating ratio')\n",
    "plt.ylabel('counts')"
   ]
  },
  {
   "cell_type": "markdown",
   "metadata": {},
   "source": [
    "### We notice that the more frequent rating was 1.2"
   ]
  },
  {
   "cell_type": "code",
   "execution_count": 6,
   "metadata": {},
   "outputs": [
    {
     "data": {
      "text/html": [
       "<div>\n",
       "<style scoped>\n",
       "    .dataframe tbody tr th:only-of-type {\n",
       "        vertical-align: middle;\n",
       "    }\n",
       "\n",
       "    .dataframe tbody tr th {\n",
       "        vertical-align: top;\n",
       "    }\n",
       "\n",
       "    .dataframe thead th {\n",
       "        text-align: right;\n",
       "    }\n",
       "</style>\n",
       "<table border=\"1\" class=\"dataframe\">\n",
       "  <thead>\n",
       "    <tr style=\"text-align: right;\">\n",
       "      <th></th>\n",
       "      <th>Unnamed: 0</th>\n",
       "      <th>tweet_id</th>\n",
       "      <th>img_num</th>\n",
       "      <th>p1_conf</th>\n",
       "      <th>p2_conf</th>\n",
       "      <th>p3_conf</th>\n",
       "      <th>rating_numerator</th>\n",
       "      <th>rating_denominator</th>\n",
       "      <th>favorite_count</th>\n",
       "      <th>id</th>\n",
       "      <th>id_str</th>\n",
       "      <th>retweet_count</th>\n",
       "      <th>rating_ratio</th>\n",
       "    </tr>\n",
       "  </thead>\n",
       "  <tbody>\n",
       "    <tr>\n",
       "      <th>count</th>\n",
       "      <td>2400.000000</td>\n",
       "      <td>2.400000e+03</td>\n",
       "      <td>2400.000000</td>\n",
       "      <td>2400.000000</td>\n",
       "      <td>2.400000e+03</td>\n",
       "      <td>2.400000e+03</td>\n",
       "      <td>2400.000000</td>\n",
       "      <td>2400.000000</td>\n",
       "      <td>2400.000000</td>\n",
       "      <td>2.400000e+03</td>\n",
       "      <td>2.400000e+03</td>\n",
       "      <td>2400.000000</td>\n",
       "      <td>2400.000000</td>\n",
       "    </tr>\n",
       "    <tr>\n",
       "      <th>mean</th>\n",
       "      <td>1199.500000</td>\n",
       "      <td>7.396937e+17</td>\n",
       "      <td>1.211667</td>\n",
       "      <td>0.598473</td>\n",
       "      <td>1.345925e-01</td>\n",
       "      <td>5.960702e-02</td>\n",
       "      <td>12.109167</td>\n",
       "      <td>10.446667</td>\n",
       "      <td>8814.974583</td>\n",
       "      <td>7.396937e+17</td>\n",
       "      <td>7.396937e+17</td>\n",
       "      <td>3007.066250</td>\n",
       "      <td>1.161439</td>\n",
       "    </tr>\n",
       "    <tr>\n",
       "      <th>std</th>\n",
       "      <td>692.964646</td>\n",
       "      <td>6.740507e+16</td>\n",
       "      <td>0.575472</td>\n",
       "      <td>0.270693</td>\n",
       "      <td>1.014630e-01</td>\n",
       "      <td>5.078704e-02</td>\n",
       "      <td>37.833477</td>\n",
       "      <td>6.672946</td>\n",
       "      <td>13637.090906</td>\n",
       "      <td>6.740507e+16</td>\n",
       "      <td>6.740507e+16</td>\n",
       "      <td>5465.294235</td>\n",
       "      <td>3.707664</td>\n",
       "    </tr>\n",
       "    <tr>\n",
       "      <th>min</th>\n",
       "      <td>0.000000</td>\n",
       "      <td>6.660209e+17</td>\n",
       "      <td>1.000000</td>\n",
       "      <td>0.044333</td>\n",
       "      <td>1.011300e-08</td>\n",
       "      <td>1.740170e-10</td>\n",
       "      <td>0.000000</td>\n",
       "      <td>10.000000</td>\n",
       "      <td>0.000000</td>\n",
       "      <td>6.660209e+17</td>\n",
       "      <td>6.660209e+17</td>\n",
       "      <td>12.000000</td>\n",
       "      <td>0.000000</td>\n",
       "    </tr>\n",
       "    <tr>\n",
       "      <th>25%</th>\n",
       "      <td>599.750000</td>\n",
       "      <td>6.776842e+17</td>\n",
       "      <td>1.000000</td>\n",
       "      <td>0.368822</td>\n",
       "      <td>5.295590e-02</td>\n",
       "      <td>1.592452e-02</td>\n",
       "      <td>10.000000</td>\n",
       "      <td>10.000000</td>\n",
       "      <td>1794.000000</td>\n",
       "      <td>6.776842e+17</td>\n",
       "      <td>6.776842e+17</td>\n",
       "      <td>642.000000</td>\n",
       "      <td>1.000000</td>\n",
       "    </tr>\n",
       "    <tr>\n",
       "      <th>50%</th>\n",
       "      <td>1199.500000</td>\n",
       "      <td>7.153514e+17</td>\n",
       "      <td>1.000000</td>\n",
       "      <td>0.599454</td>\n",
       "      <td>1.167160e-01</td>\n",
       "      <td>4.862855e-02</td>\n",
       "      <td>11.000000</td>\n",
       "      <td>10.000000</td>\n",
       "      <td>3893.500000</td>\n",
       "      <td>7.153514e+17</td>\n",
       "      <td>7.153514e+17</td>\n",
       "      <td>1411.000000</td>\n",
       "      <td>1.100000</td>\n",
       "    </tr>\n",
       "    <tr>\n",
       "      <th>75%</th>\n",
       "      <td>1799.250000</td>\n",
       "      <td>7.942370e+17</td>\n",
       "      <td>1.000000</td>\n",
       "      <td>0.846628</td>\n",
       "      <td>1.956673e-01</td>\n",
       "      <td>9.107453e-02</td>\n",
       "      <td>12.000000</td>\n",
       "      <td>10.000000</td>\n",
       "      <td>10859.500000</td>\n",
       "      <td>7.942370e+17</td>\n",
       "      <td>7.942370e+17</td>\n",
       "      <td>3332.000000</td>\n",
       "      <td>1.200000</td>\n",
       "    </tr>\n",
       "    <tr>\n",
       "      <th>max</th>\n",
       "      <td>2399.000000</td>\n",
       "      <td>8.924206e+17</td>\n",
       "      <td>4.000000</td>\n",
       "      <td>1.000000</td>\n",
       "      <td>4.880140e-01</td>\n",
       "      <td>2.734190e-01</td>\n",
       "      <td>1776.000000</td>\n",
       "      <td>170.000000</td>\n",
       "      <td>165052.000000</td>\n",
       "      <td>8.924206e+17</td>\n",
       "      <td>8.924206e+17</td>\n",
       "      <td>84454.000000</td>\n",
       "      <td>177.600000</td>\n",
       "    </tr>\n",
       "  </tbody>\n",
       "</table>\n",
       "</div>"
      ],
      "text/plain": [
       "        Unnamed: 0      tweet_id      img_num      p1_conf       p2_conf  \\\n",
       "count  2400.000000  2.400000e+03  2400.000000  2400.000000  2.400000e+03   \n",
       "mean   1199.500000  7.396937e+17     1.211667     0.598473  1.345925e-01   \n",
       "std     692.964646  6.740507e+16     0.575472     0.270693  1.014630e-01   \n",
       "min       0.000000  6.660209e+17     1.000000     0.044333  1.011300e-08   \n",
       "25%     599.750000  6.776842e+17     1.000000     0.368822  5.295590e-02   \n",
       "50%    1199.500000  7.153514e+17     1.000000     0.599454  1.167160e-01   \n",
       "75%    1799.250000  7.942370e+17     1.000000     0.846628  1.956673e-01   \n",
       "max    2399.000000  8.924206e+17     4.000000     1.000000  4.880140e-01   \n",
       "\n",
       "            p3_conf  rating_numerator  rating_denominator  favorite_count  \\\n",
       "count  2.400000e+03       2400.000000         2400.000000     2400.000000   \n",
       "mean   5.960702e-02         12.109167           10.446667     8814.974583   \n",
       "std    5.078704e-02         37.833477            6.672946    13637.090906   \n",
       "min    1.740170e-10          0.000000           10.000000        0.000000   \n",
       "25%    1.592452e-02         10.000000           10.000000     1794.000000   \n",
       "50%    4.862855e-02         11.000000           10.000000     3893.500000   \n",
       "75%    9.107453e-02         12.000000           10.000000    10859.500000   \n",
       "max    2.734190e-01       1776.000000          170.000000   165052.000000   \n",
       "\n",
       "                 id        id_str  retweet_count  rating_ratio  \n",
       "count  2.400000e+03  2.400000e+03    2400.000000   2400.000000  \n",
       "mean   7.396937e+17  7.396937e+17    3007.066250      1.161439  \n",
       "std    6.740507e+16  6.740507e+16    5465.294235      3.707664  \n",
       "min    6.660209e+17  6.660209e+17      12.000000      0.000000  \n",
       "25%    6.776842e+17  6.776842e+17     642.000000      1.000000  \n",
       "50%    7.153514e+17  7.153514e+17    1411.000000      1.100000  \n",
       "75%    7.942370e+17  7.942370e+17    3332.000000      1.200000  \n",
       "max    8.924206e+17  8.924206e+17   84454.000000    177.600000  "
      ]
     },
     "execution_count": 6,
     "metadata": {},
     "output_type": "execute_result"
    }
   ],
   "source": [
    "we_rate_dogs_clean.describe()"
   ]
  },
  {
   "cell_type": "markdown",
   "metadata": {},
   "source": [
    "### The mean rating ratio is 1.16, the minimum is 0 and the maximum is 177 !"
   ]
  },
  {
   "cell_type": "markdown",
   "metadata": {},
   "source": [
    "#### Distribution of dog stages"
   ]
  },
  {
   "cell_type": "code",
   "execution_count": 16,
   "metadata": {},
   "outputs": [
    {
     "data": {
      "text/plain": [
       "Text(0,0.5,'counts')"
      ]
     },
     "execution_count": 16,
     "metadata": {},
     "output_type": "execute_result"
    },
    {
     "data": {
      "image/png": "[encoded data removed]",
      "text/plain": [
       "<Figure size 432x288 with 1 Axes>"
      ]
     },
     "metadata": {},
     "output_type": "display_data"
    }
   ],
   "source": [
    "x_axis = ['pupper','doggo', 'puppo', 'floofer']\n",
    "y_axis = [221, 80, 24, 8]\n",
    "plt.bar(x_axis,y_axis);\n",
    "plt.xlabel('dog stage')\n",
    "plt.ylabel('counts')"
   ]
  },
  {
   "cell_type": "markdown",
   "metadata": {},
   "source": [
    "### Most posted dogs are in pupper stage"
   ]
  },
  {
   "cell_type": "code",
   "execution_count": 10,
   "metadata": {},
   "outputs": [
    {
     "data": {
      "text/plain": [
       "dog_stage\n",
       "None       165052\n",
       "doggo      165052\n",
       "floofer     32233\n",
       "pupper     122861\n",
       "puppo      141537\n",
       "Name: favorite_count, dtype: int64"
      ]
     },
     "execution_count": 10,
     "metadata": {},
     "output_type": "execute_result"
    }
   ],
   "source": [
    "we_rate_dogs_clean.groupby('dog_stage')['favorite_count'].max()\n"
   ]
  },
  {
   "cell_type": "markdown",
   "metadata": {},
   "source": [
    "### The most liked posted dog is a doggo one !"
   ]
  },
  {
   "cell_type": "markdown",
   "metadata": {},
   "source": [
    "## Bivariate Analysis"
   ]
  },
  {
   "cell_type": "code",
   "execution_count": 14,
   "metadata": {},
   "outputs": [
    {
     "data": {
      "text/plain": [
       "Text(0,0.5,'favorite counts')"
      ]
     },
     "execution_count": 14,
     "metadata": {},
     "output_type": "execute_result"
    },
    {
     "data": {
      "image/png": "[encoded data removed]",
      "text/plain": [
       "<Figure size 432x288 with 1 Axes>"
      ]
     },
     "metadata": {},
     "output_type": "display_data"
    }
   ],
   "source": [
    "plt.scatter(we_rate_dogs_clean.rating_ratio, we_rate_dogs_clean.favorite_count);\n",
    "plt.xlim(0,2)\n",
    "plt.xlabel('rating ratio')\n",
    "plt.ylabel('favorite counts')"
   ]
  },
  {
   "cell_type": "markdown",
   "metadata": {},
   "source": [
    "### In average most favorited posts are rated about 1.3"
   ]
  },
  {
   "cell_type": "code",
   "execution_count": 12,
   "metadata": {},
   "outputs": [
    {
     "data": {
      "text/plain": [
       "Text(0,0.5,'retweets')"
      ]
     },
     "execution_count": 12,
     "metadata": {},
     "output_type": "execute_result"
    },
    {
     "data": {
      "image/png": "[encoded data removed]",
      "text/plain": [
       "<Figure size 432x288 with 1 Axes>"
      ]
     },
     "metadata": {},
     "output_type": "display_data"
    }
   ],
   "source": [
    "plt.scatter(we_rate_dogs_clean.favorite_count, we_rate_dogs_clean.retweet_count);\n",
    "plt.xlabel('favorite')\n",
    "plt.ylabel('retweets')"
   ]
  },
  {
   "cell_type": "markdown",
   "metadata": {},
   "source": [
    "### As the post had a high favorites, the retweets increase too"
   ]
  }
 ],
 "metadata": {
  "kernelspec": {
   "display_name": "Python 3",
   "language": "python",
   "name": "python3"
  },
  "language_info": {
   "codemirror_mode": {
    "name": "ipython",
    "version": 3
   },
   "file_extension": ".py",
   "mimetype": "text/x-python",
   "name": "python",
   "nbconvert_exporter": "python",
   "pygments_lexer": "ipython3",
   "version": "3.6.5"
  }
 },
 "nbformat": 4,
 "nbformat_minor": 2
}
